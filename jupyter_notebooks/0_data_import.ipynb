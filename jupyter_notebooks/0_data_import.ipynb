{
 "cells": [
  {
   "cell_type": "markdown",
   "id": "equivalent-youth",
   "metadata": {},
   "source": [
    "### Import Modules and Python Functions"
   ]
  },
  {
   "cell_type": "code",
   "execution_count": 1,
   "id": "temporal-kitty",
   "metadata": {},
   "outputs": [],
   "source": [
    "import os\n",
    "import numpy as np\n",
    "import pandas as pd\n",
    "import yaml\n",
    "with open('../python/variables.yaml') as info:\n",
    "    VARS = yaml.load(info, Loader=yaml.FullLoader)\n",
    "\n",
    "#os.path.join( os.path.dirname('__file__' ), '../python' )\n",
    "#from from_csv_to_df import get_select_data"
   ]
  },
  {
   "cell_type": "markdown",
   "id": "transsexual-apparatus",
   "metadata": {},
   "source": [
    "### Import Variables"
   ]
  },
  {
   "cell_type": "code",
   "execution_count": 2,
   "id": "worst-exhibit",
   "metadata": {},
   "outputs": [],
   "source": [
    "# Events\n",
    "events_csv = VARS['EVENTS_CSV']\n",
    "events_cols_all = VARS['EVENTS_COLS_ALL']\n",
    "events_cols_select = VARS['EVENTS_COLS_SELECT']\n",
    "\n",
    "# Mentions\n",
    "mentions_csv = VARS['MENTIONS_CSV']\n",
    "mentions_cols_all = VARS['MENTIONS_COLS_ALL']\n",
    "mentions_cols_select = VARS['MENTIONS_COLS_SELECT']\n",
    "\n",
    "# Pilot\n",
    "cameo_codes = VARS['PILOT_CAMEO_VERB_CODES']\n",
    "select_countries_60 = VARS['PILOT_COUNTRIES_IOS2']"
   ]
  },
  {
   "cell_type": "markdown",
   "id": "complimentary-compound",
   "metadata": {},
   "source": [
    "### Import Data"
   ]
  },
  {
   "cell_type": "code",
   "execution_count": 3,
   "id": "lonely-control",
   "metadata": {},
   "outputs": [],
   "source": [
    "def get_select_data(filepath: str, all_cols: list, select_cols: list) -> object:\n",
    "    \"\"\"Get Select Columns of Data from GDELT Latest Update CSV\n",
    "    :param filepath: full filename and path to CSV file to be imported\n",
    "    :param all_cols: column names of the CSV imported\n",
    "    :param select_cols: derivative list of columns from all_cols\n",
    "    :rtype: dataframe\n",
    "    :return: dataframe\n",
    "    \"\"\"\n",
    "\n",
    "    # Import entire CSV\n",
    "    latest_update_df = pd.DataFrame(pd.read_csv(filepath,\n",
    "                                                names=all_cols,\n",
    "                                                delimiter=\"\\t\"))\n",
    "\n",
    "    # Select specific columns\n",
    "    return latest_update_df[select_cols]"
   ]
  },
  {
   "cell_type": "markdown",
   "id": "perceived-sword",
   "metadata": {},
   "source": [
    "#### Events Data"
   ]
  },
  {
   "cell_type": "code",
   "execution_count": 4,
   "id": "acoustic-warner",
   "metadata": {},
   "outputs": [
    {
     "name": "stdout",
     "output_type": "stream",
     "text": [
      "(1212, 11)\n",
      "<class 'pandas.core.frame.DataFrame'>\n",
      "RangeIndex: 1212 entries, 0 to 1211\n",
      "Data columns (total 11 columns):\n",
      " #   Column                 Non-Null Count  Dtype  \n",
      "---  ------                 --------------  -----  \n",
      " 0   GLOBALEVENTID          1212 non-null   int64  \n",
      " 1   EventCode              1212 non-null   int64  \n",
      " 2   EventRootCode          1212 non-null   int64  \n",
      " 3   QuadClass              1212 non-null   int64  \n",
      " 4   GoldsteinScale         1212 non-null   float64\n",
      " 5   ActionGeo_Type         1212 non-null   int64  \n",
      " 6   ActionGeo_FullName     1177 non-null   object \n",
      " 7   ActionGeo_CountryCode  1179 non-null   object \n",
      " 8   ActionGeo_Lat          1177 non-null   float64\n",
      " 9   ActionGeo_Long         1177 non-null   float64\n",
      " 10  SOURCEURL              1212 non-null   object \n",
      "dtypes: float64(3), int64(5), object(3)\n",
      "memory usage: 104.3+ KB\n",
      "None\n"
     ]
    },
    {
     "data": {
      "text/html": [
       "<div>\n",
       "<style scoped>\n",
       "    .dataframe tbody tr th:only-of-type {\n",
       "        vertical-align: middle;\n",
       "    }\n",
       "\n",
       "    .dataframe tbody tr th {\n",
       "        vertical-align: top;\n",
       "    }\n",
       "\n",
       "    .dataframe thead th {\n",
       "        text-align: right;\n",
       "    }\n",
       "</style>\n",
       "<table border=\"1\" class=\"dataframe\">\n",
       "  <thead>\n",
       "    <tr style=\"text-align: right;\">\n",
       "      <th></th>\n",
       "      <th>GLOBALEVENTID</th>\n",
       "      <th>EventCode</th>\n",
       "      <th>EventRootCode</th>\n",
       "      <th>QuadClass</th>\n",
       "      <th>GoldsteinScale</th>\n",
       "      <th>ActionGeo_Type</th>\n",
       "      <th>ActionGeo_FullName</th>\n",
       "      <th>ActionGeo_CountryCode</th>\n",
       "      <th>ActionGeo_Lat</th>\n",
       "      <th>ActionGeo_Long</th>\n",
       "      <th>SOURCEURL</th>\n",
       "    </tr>\n",
       "  </thead>\n",
       "  <tbody>\n",
       "    <tr>\n",
       "      <th>0</th>\n",
       "      <td>972238884</td>\n",
       "      <td>20</td>\n",
       "      <td>2</td>\n",
       "      <td>1</td>\n",
       "      <td>3.0</td>\n",
       "      <td>4</td>\n",
       "      <td>Canberra, Australian Capital Territory, Australia</td>\n",
       "      <td>AS</td>\n",
       "      <td>-35.2833</td>\n",
       "      <td>149.217</td>\n",
       "      <td>https://www.aninews.in/news/world/asia/china-a...</td>\n",
       "    </tr>\n",
       "  </tbody>\n",
       "</table>\n",
       "</div>"
      ],
      "text/plain": [
       "   GLOBALEVENTID  EventCode  EventRootCode  QuadClass  GoldsteinScale  \\\n",
       "0      972238884         20              2          1             3.0   \n",
       "\n",
       "   ActionGeo_Type                                 ActionGeo_FullName  \\\n",
       "0               4  Canberra, Australian Capital Territory, Australia   \n",
       "\n",
       "  ActionGeo_CountryCode  ActionGeo_Lat  ActionGeo_Long  \\\n",
       "0                    AS       -35.2833         149.217   \n",
       "\n",
       "                                           SOURCEURL  \n",
       "0  https://www.aninews.in/news/world/asia/china-a...  "
      ]
     },
     "execution_count": 4,
     "metadata": {},
     "output_type": "execute_result"
    }
   ],
   "source": [
    "# get data\n",
    "gdelt_se_df = get_select_data(events_csv,\n",
    "                              events_cols_all,\n",
    "                              events_cols_select)\n",
    "print(gdelt_se_df.shape)\n",
    "print(gdelt_se_df.info())\n",
    "gdelt_se_df.head(1)"
   ]
  },
  {
   "cell_type": "code",
   "execution_count": 5,
   "id": "extensive-handling",
   "metadata": {},
   "outputs": [
    {
     "name": "stdout",
     "output_type": "stream",
     "text": [
      "Number of Global Event Ids:  1212\n"
     ]
    }
   ],
   "source": [
    "print('Number of Global Event Ids: ', len(gdelt_se_df['GLOBALEVENTID'].unique()))"
   ]
  },
  {
   "cell_type": "markdown",
   "id": "loose-microwave",
   "metadata": {},
   "source": [
    "### Mentions Data"
   ]
  },
  {
   "cell_type": "code",
   "execution_count": 6,
   "id": "mounted-military",
   "metadata": {},
   "outputs": [
    {
     "name": "stdout",
     "output_type": "stream",
     "text": [
      "(4325, 5)\n",
      "<class 'pandas.core.frame.DataFrame'>\n",
      "RangeIndex: 4325 entries, 0 to 4324\n",
      "Data columns (total 5 columns):\n",
      " #   Column           Non-Null Count  Dtype  \n",
      "---  ------           --------------  -----  \n",
      " 0   GLOBALEVENTID    4325 non-null   int64  \n",
      " 1   EventTimeDate    4325 non-null   int64  \n",
      " 2   MentionTimeDate  4325 non-null   int64  \n",
      " 3   Confidence       4325 non-null   int64  \n",
      " 4   MentionDocTone   4325 non-null   float64\n",
      "dtypes: float64(1), int64(4)\n",
      "memory usage: 169.1 KB\n",
      "None\n"
     ]
    },
    {
     "data": {
      "text/html": [
       "<div>\n",
       "<style scoped>\n",
       "    .dataframe tbody tr th:only-of-type {\n",
       "        vertical-align: middle;\n",
       "    }\n",
       "\n",
       "    .dataframe tbody tr th {\n",
       "        vertical-align: top;\n",
       "    }\n",
       "\n",
       "    .dataframe thead th {\n",
       "        text-align: right;\n",
       "    }\n",
       "</style>\n",
       "<table border=\"1\" class=\"dataframe\">\n",
       "  <thead>\n",
       "    <tr style=\"text-align: right;\">\n",
       "      <th></th>\n",
       "      <th>GLOBALEVENTID</th>\n",
       "      <th>EventTimeDate</th>\n",
       "      <th>MentionTimeDate</th>\n",
       "      <th>Confidence</th>\n",
       "      <th>MentionDocTone</th>\n",
       "    </tr>\n",
       "  </thead>\n",
       "  <tbody>\n",
       "    <tr>\n",
       "      <th>0</th>\n",
       "      <td>972238884</td>\n",
       "      <td>20210301204500</td>\n",
       "      <td>20210301204500</td>\n",
       "      <td>20</td>\n",
       "      <td>-6.52921</td>\n",
       "    </tr>\n",
       "  </tbody>\n",
       "</table>\n",
       "</div>"
      ],
      "text/plain": [
       "   GLOBALEVENTID   EventTimeDate  MentionTimeDate  Confidence  MentionDocTone\n",
       "0      972238884  20210301204500   20210301204500          20        -6.52921"
      ]
     },
     "execution_count": 6,
     "metadata": {},
     "output_type": "execute_result"
    }
   ],
   "source": [
    "# get data\n",
    "gdelt_sm_df = get_select_data(mentions_csv,\n",
    "                              mentions_cols_all,\n",
    "                              mentions_cols_select)\n",
    "print(gdelt_sm_df.shape)\n",
    "print(gdelt_sm_df.info())\n",
    "gdelt_sm_df.head(1)"
   ]
  },
  {
   "cell_type": "code",
   "execution_count": 7,
   "id": "armed-tyler",
   "metadata": {},
   "outputs": [
    {
     "name": "stdout",
     "output_type": "stream",
     "text": [
      "Number of Global Event Ids:  3229\n"
     ]
    }
   ],
   "source": [
    "print('Number of Global Event Ids: ', len(gdelt_sm_df['GLOBALEVENTID'].unique()))"
   ]
  },
  {
   "cell_type": "markdown",
   "id": "athletic-adjustment",
   "metadata": {},
   "source": [
    "#### Select Mentions within first 60 Days of an Event"
   ]
  },
  {
   "cell_type": "code",
   "execution_count": 8,
   "id": "freelance-mining",
   "metadata": {},
   "outputs": [
    {
     "name": "stdout",
     "output_type": "stream",
     "text": [
      "(1324, 6)\n",
      "Number of Global Event Ids:  1212\n"
     ]
    },
    {
     "data": {
      "text/html": [
       "<div>\n",
       "<style scoped>\n",
       "    .dataframe tbody tr th:only-of-type {\n",
       "        vertical-align: middle;\n",
       "    }\n",
       "\n",
       "    .dataframe tbody tr th {\n",
       "        vertical-align: top;\n",
       "    }\n",
       "\n",
       "    .dataframe thead th {\n",
       "        text-align: right;\n",
       "    }\n",
       "</style>\n",
       "<table border=\"1\" class=\"dataframe\">\n",
       "  <thead>\n",
       "    <tr style=\"text-align: right;\">\n",
       "      <th></th>\n",
       "      <th>GLOBALEVENTID</th>\n",
       "      <th>EventTimeDate</th>\n",
       "      <th>MentionTimeDate</th>\n",
       "      <th>Confidence</th>\n",
       "      <th>MentionDocTone</th>\n",
       "      <th>DaysBetween</th>\n",
       "    </tr>\n",
       "  </thead>\n",
       "  <tbody>\n",
       "    <tr>\n",
       "      <th>0</th>\n",
       "      <td>972238884</td>\n",
       "      <td>20210301204500</td>\n",
       "      <td>20210301204500</td>\n",
       "      <td>20</td>\n",
       "      <td>-6.529210</td>\n",
       "      <td>0</td>\n",
       "    </tr>\n",
       "    <tr>\n",
       "      <th>1</th>\n",
       "      <td>972238885</td>\n",
       "      <td>20210301204500</td>\n",
       "      <td>20210301204500</td>\n",
       "      <td>20</td>\n",
       "      <td>-6.529210</td>\n",
       "      <td>0</td>\n",
       "    </tr>\n",
       "    <tr>\n",
       "      <th>2</th>\n",
       "      <td>972238886</td>\n",
       "      <td>20210301204500</td>\n",
       "      <td>20210301204500</td>\n",
       "      <td>60</td>\n",
       "      <td>-6.529210</td>\n",
       "      <td>0</td>\n",
       "    </tr>\n",
       "    <tr>\n",
       "      <th>3</th>\n",
       "      <td>972238887</td>\n",
       "      <td>20210301204500</td>\n",
       "      <td>20210301204500</td>\n",
       "      <td>40</td>\n",
       "      <td>-4.385965</td>\n",
       "      <td>0</td>\n",
       "    </tr>\n",
       "    <tr>\n",
       "      <th>4</th>\n",
       "      <td>972238888</td>\n",
       "      <td>20210301204500</td>\n",
       "      <td>20210301204500</td>\n",
       "      <td>40</td>\n",
       "      <td>-4.385965</td>\n",
       "      <td>0</td>\n",
       "    </tr>\n",
       "  </tbody>\n",
       "</table>\n",
       "</div>"
      ],
      "text/plain": [
       "   GLOBALEVENTID   EventTimeDate  MentionTimeDate  Confidence  MentionDocTone  \\\n",
       "0      972238884  20210301204500   20210301204500          20       -6.529210   \n",
       "1      972238885  20210301204500   20210301204500          20       -6.529210   \n",
       "2      972238886  20210301204500   20210301204500          60       -6.529210   \n",
       "3      972238887  20210301204500   20210301204500          40       -4.385965   \n",
       "4      972238888  20210301204500   20210301204500          40       -4.385965   \n",
       "\n",
       "   DaysBetween  \n",
       "0            0  \n",
       "1            0  \n",
       "2            0  \n",
       "3            0  \n",
       "4            0  "
      ]
     },
     "execution_count": 8,
     "metadata": {},
     "output_type": "execute_result"
    }
   ],
   "source": [
    "# Calculate days between\n",
    "gdelt_sm_df['DaysBetween'] = gdelt_sm_df['MentionTimeDate'] - gdelt_sm_df['EventTimeDate']\n",
    "#print(gdelt_sm_df['DaysBetween'][0])\n",
    "\n",
    "# Drop rows where days_between <= 60 days\n",
    "gdelt_sm_60d_df = gdelt_sm_df[gdelt_sm_df['DaysBetween'] <= 60].reset_index(drop=True)\n",
    "print(gdelt_sm_60d_df.shape)\n",
    "print('Number of Global Event Ids: ', len(gdelt_sm_60d_df['GLOBALEVENTID'].unique()))\n",
    "gdelt_sm_60d_df.head()"
   ]
  },
  {
   "cell_type": "code",
   "execution_count": 9,
   "id": "traditional-fourth",
   "metadata": {},
   "outputs": [
    {
     "data": {
      "text/plain": [
       "0"
      ]
     },
     "execution_count": 9,
     "metadata": {},
     "output_type": "execute_result"
    }
   ],
   "source": [
    "# Verify output\n",
    "max(gdelt_sm_60d_df['DaysBetween'])"
   ]
  },
  {
   "cell_type": "markdown",
   "id": "educational-cricket",
   "metadata": {},
   "source": [
    "#### Change int64 dates to datetimes"
   ]
  },
  {
   "cell_type": "code",
   "execution_count": 10,
   "id": "orange-certification",
   "metadata": {},
   "outputs": [
    {
     "data": {
      "text/html": [
       "<div>\n",
       "<style scoped>\n",
       "    .dataframe tbody tr th:only-of-type {\n",
       "        vertical-align: middle;\n",
       "    }\n",
       "\n",
       "    .dataframe tbody tr th {\n",
       "        vertical-align: top;\n",
       "    }\n",
       "\n",
       "    .dataframe thead th {\n",
       "        text-align: right;\n",
       "    }\n",
       "</style>\n",
       "<table border=\"1\" class=\"dataframe\">\n",
       "  <thead>\n",
       "    <tr style=\"text-align: right;\">\n",
       "      <th></th>\n",
       "      <th>GLOBALEVENTID</th>\n",
       "      <th>EventTimeDate</th>\n",
       "      <th>MentionTimeDate</th>\n",
       "      <th>Confidence</th>\n",
       "      <th>MentionDocTone</th>\n",
       "      <th>DaysBetween</th>\n",
       "    </tr>\n",
       "  </thead>\n",
       "  <tbody>\n",
       "    <tr>\n",
       "      <th>0</th>\n",
       "      <td>972238884</td>\n",
       "      <td>2021-03-01 20:45:00</td>\n",
       "      <td>2021-03-01 20:45:00</td>\n",
       "      <td>20</td>\n",
       "      <td>-6.529210</td>\n",
       "      <td>0</td>\n",
       "    </tr>\n",
       "    <tr>\n",
       "      <th>1</th>\n",
       "      <td>972238885</td>\n",
       "      <td>2021-03-01 20:45:00</td>\n",
       "      <td>2021-03-01 20:45:00</td>\n",
       "      <td>20</td>\n",
       "      <td>-6.529210</td>\n",
       "      <td>0</td>\n",
       "    </tr>\n",
       "    <tr>\n",
       "      <th>2</th>\n",
       "      <td>972238886</td>\n",
       "      <td>2021-03-01 20:45:00</td>\n",
       "      <td>2021-03-01 20:45:00</td>\n",
       "      <td>60</td>\n",
       "      <td>-6.529210</td>\n",
       "      <td>0</td>\n",
       "    </tr>\n",
       "    <tr>\n",
       "      <th>3</th>\n",
       "      <td>972238887</td>\n",
       "      <td>2021-03-01 20:45:00</td>\n",
       "      <td>2021-03-01 20:45:00</td>\n",
       "      <td>40</td>\n",
       "      <td>-4.385965</td>\n",
       "      <td>0</td>\n",
       "    </tr>\n",
       "    <tr>\n",
       "      <th>4</th>\n",
       "      <td>972238888</td>\n",
       "      <td>2021-03-01 20:45:00</td>\n",
       "      <td>2021-03-01 20:45:00</td>\n",
       "      <td>40</td>\n",
       "      <td>-4.385965</td>\n",
       "      <td>0</td>\n",
       "    </tr>\n",
       "  </tbody>\n",
       "</table>\n",
       "</div>"
      ],
      "text/plain": [
       "   GLOBALEVENTID       EventTimeDate     MentionTimeDate  Confidence  \\\n",
       "0      972238884 2021-03-01 20:45:00 2021-03-01 20:45:00          20   \n",
       "1      972238885 2021-03-01 20:45:00 2021-03-01 20:45:00          20   \n",
       "2      972238886 2021-03-01 20:45:00 2021-03-01 20:45:00          60   \n",
       "3      972238887 2021-03-01 20:45:00 2021-03-01 20:45:00          40   \n",
       "4      972238888 2021-03-01 20:45:00 2021-03-01 20:45:00          40   \n",
       "\n",
       "   MentionDocTone  DaysBetween  \n",
       "0       -6.529210            0  \n",
       "1       -6.529210            0  \n",
       "2       -6.529210            0  \n",
       "3       -4.385965            0  \n",
       "4       -4.385965            0  "
      ]
     },
     "execution_count": 10,
     "metadata": {},
     "output_type": "execute_result"
    }
   ],
   "source": [
    "date_format = '%Y%m%d%H%M%S'\n",
    "gdelt_sm_60d_df['EventTimeDate'] = pd.to_datetime(gdelt_sm_60d_df['EventTimeDate'].astype(str), format=date_format)\n",
    "gdelt_sm_60d_df['MentionTimeDate'] = pd.to_datetime(gdelt_sm_60d_df['MentionTimeDate'].astype(str), format=date_format)\n",
    "gdelt_sm_60d_df.head()"
   ]
  },
  {
   "cell_type": "markdown",
   "id": "piano-possession",
   "metadata": {},
   "source": [
    "### Join Events and Mentions Data on GlobalEventId"
   ]
  },
  {
   "cell_type": "code",
   "execution_count": 11,
   "id": "global-stevens",
   "metadata": {},
   "outputs": [
    {
     "name": "stdout",
     "output_type": "stream",
     "text": [
      "Events Data:  (1212, 11)\n",
      "Mentions Data:  (1324, 6)\n",
      "Merged Data w/ Duplicates:  (1324, 16)\n",
      "Merged Data w/o Duplicates:  (1301, 16)\n",
      "<class 'pandas.core.frame.DataFrame'>\n",
      "Int64Index: 1301 entries, 0 to 1323\n",
      "Data columns (total 16 columns):\n",
      " #   Column                 Non-Null Count  Dtype         \n",
      "---  ------                 --------------  -----         \n",
      " 0   GLOBALEVENTID          1301 non-null   int64         \n",
      " 1   EventCode              1301 non-null   int64         \n",
      " 2   EventRootCode          1301 non-null   int64         \n",
      " 3   QuadClass              1301 non-null   int64         \n",
      " 4   GoldsteinScale         1301 non-null   float64       \n",
      " 5   ActionGeo_Type         1301 non-null   int64         \n",
      " 6   ActionGeo_FullName     1259 non-null   object        \n",
      " 7   ActionGeo_CountryCode  1267 non-null   object        \n",
      " 8   ActionGeo_Lat          1259 non-null   float64       \n",
      " 9   ActionGeo_Long         1259 non-null   float64       \n",
      " 10  SOURCEURL              1301 non-null   object        \n",
      " 11  EventTimeDate          1301 non-null   datetime64[ns]\n",
      " 12  MentionTimeDate        1301 non-null   datetime64[ns]\n",
      " 13  Confidence             1301 non-null   int64         \n",
      " 14  MentionDocTone         1301 non-null   float64       \n",
      " 15  DaysBetween            1301 non-null   int64         \n",
      "dtypes: datetime64[ns](2), float64(4), int64(7), object(3)\n",
      "memory usage: 172.8+ KB\n",
      "None\n"
     ]
    },
    {
     "data": {
      "text/html": [
       "<div>\n",
       "<style scoped>\n",
       "    .dataframe tbody tr th:only-of-type {\n",
       "        vertical-align: middle;\n",
       "    }\n",
       "\n",
       "    .dataframe tbody tr th {\n",
       "        vertical-align: top;\n",
       "    }\n",
       "\n",
       "    .dataframe thead th {\n",
       "        text-align: right;\n",
       "    }\n",
       "</style>\n",
       "<table border=\"1\" class=\"dataframe\">\n",
       "  <thead>\n",
       "    <tr style=\"text-align: right;\">\n",
       "      <th></th>\n",
       "      <th>GLOBALEVENTID</th>\n",
       "      <th>EventCode</th>\n",
       "      <th>EventRootCode</th>\n",
       "      <th>QuadClass</th>\n",
       "      <th>GoldsteinScale</th>\n",
       "      <th>ActionGeo_Type</th>\n",
       "      <th>ActionGeo_FullName</th>\n",
       "      <th>ActionGeo_CountryCode</th>\n",
       "      <th>ActionGeo_Lat</th>\n",
       "      <th>ActionGeo_Long</th>\n",
       "      <th>SOURCEURL</th>\n",
       "      <th>EventTimeDate</th>\n",
       "      <th>MentionTimeDate</th>\n",
       "      <th>Confidence</th>\n",
       "      <th>MentionDocTone</th>\n",
       "      <th>DaysBetween</th>\n",
       "    </tr>\n",
       "  </thead>\n",
       "  <tbody>\n",
       "    <tr>\n",
       "      <th>0</th>\n",
       "      <td>972238884</td>\n",
       "      <td>20</td>\n",
       "      <td>2</td>\n",
       "      <td>1</td>\n",
       "      <td>3.0</td>\n",
       "      <td>4</td>\n",
       "      <td>Canberra, Australian Capital Territory, Australia</td>\n",
       "      <td>AS</td>\n",
       "      <td>-35.2833</td>\n",
       "      <td>149.2170</td>\n",
       "      <td>https://www.aninews.in/news/world/asia/china-a...</td>\n",
       "      <td>2021-03-01 20:45:00</td>\n",
       "      <td>2021-03-01 20:45:00</td>\n",
       "      <td>20</td>\n",
       "      <td>-6.529210</td>\n",
       "      <td>0</td>\n",
       "    </tr>\n",
       "    <tr>\n",
       "      <th>1</th>\n",
       "      <td>972238885</td>\n",
       "      <td>20</td>\n",
       "      <td>2</td>\n",
       "      <td>1</td>\n",
       "      <td>3.0</td>\n",
       "      <td>4</td>\n",
       "      <td>Beijing, Beijing, China</td>\n",
       "      <td>CH</td>\n",
       "      <td>39.9289</td>\n",
       "      <td>116.3880</td>\n",
       "      <td>https://www.aninews.in/news/world/asia/china-a...</td>\n",
       "      <td>2021-03-01 20:45:00</td>\n",
       "      <td>2021-03-01 20:45:00</td>\n",
       "      <td>20</td>\n",
       "      <td>-6.529210</td>\n",
       "      <td>0</td>\n",
       "    </tr>\n",
       "    <tr>\n",
       "      <th>2</th>\n",
       "      <td>972238886</td>\n",
       "      <td>20</td>\n",
       "      <td>2</td>\n",
       "      <td>1</td>\n",
       "      <td>3.0</td>\n",
       "      <td>4</td>\n",
       "      <td>Beijing, Beijing, China</td>\n",
       "      <td>CH</td>\n",
       "      <td>39.9289</td>\n",
       "      <td>116.3880</td>\n",
       "      <td>https://www.aninews.in/news/world/asia/china-a...</td>\n",
       "      <td>2021-03-01 20:45:00</td>\n",
       "      <td>2021-03-01 20:45:00</td>\n",
       "      <td>60</td>\n",
       "      <td>-6.529210</td>\n",
       "      <td>0</td>\n",
       "    </tr>\n",
       "    <tr>\n",
       "      <th>3</th>\n",
       "      <td>972238887</td>\n",
       "      <td>111</td>\n",
       "      <td>11</td>\n",
       "      <td>3</td>\n",
       "      <td>-2.0</td>\n",
       "      <td>4</td>\n",
       "      <td>Mumbai, Maharashtra, India</td>\n",
       "      <td>IN</td>\n",
       "      <td>18.9750</td>\n",
       "      <td>72.8258</td>\n",
       "      <td>https://www.techshout.com/security/2021/01/chi...</td>\n",
       "      <td>2021-03-01 20:45:00</td>\n",
       "      <td>2021-03-01 20:45:00</td>\n",
       "      <td>40</td>\n",
       "      <td>-4.385965</td>\n",
       "      <td>0</td>\n",
       "    </tr>\n",
       "    <tr>\n",
       "      <th>4</th>\n",
       "      <td>972238888</td>\n",
       "      <td>110</td>\n",
       "      <td>11</td>\n",
       "      <td>3</td>\n",
       "      <td>-2.0</td>\n",
       "      <td>4</td>\n",
       "      <td>Mumbai, Maharashtra, India</td>\n",
       "      <td>IN</td>\n",
       "      <td>18.9750</td>\n",
       "      <td>72.8258</td>\n",
       "      <td>https://www.techshout.com/security/2021/01/chi...</td>\n",
       "      <td>2021-03-01 20:45:00</td>\n",
       "      <td>2021-03-01 20:45:00</td>\n",
       "      <td>40</td>\n",
       "      <td>-4.385965</td>\n",
       "      <td>0</td>\n",
       "    </tr>\n",
       "  </tbody>\n",
       "</table>\n",
       "</div>"
      ],
      "text/plain": [
       "   GLOBALEVENTID  EventCode  EventRootCode  QuadClass  GoldsteinScale  \\\n",
       "0      972238884         20              2          1             3.0   \n",
       "1      972238885         20              2          1             3.0   \n",
       "2      972238886         20              2          1             3.0   \n",
       "3      972238887        111             11          3            -2.0   \n",
       "4      972238888        110             11          3            -2.0   \n",
       "\n",
       "   ActionGeo_Type                                 ActionGeo_FullName  \\\n",
       "0               4  Canberra, Australian Capital Territory, Australia   \n",
       "1               4                            Beijing, Beijing, China   \n",
       "2               4                            Beijing, Beijing, China   \n",
       "3               4                         Mumbai, Maharashtra, India   \n",
       "4               4                         Mumbai, Maharashtra, India   \n",
       "\n",
       "  ActionGeo_CountryCode  ActionGeo_Lat  ActionGeo_Long  \\\n",
       "0                    AS       -35.2833        149.2170   \n",
       "1                    CH        39.9289        116.3880   \n",
       "2                    CH        39.9289        116.3880   \n",
       "3                    IN        18.9750         72.8258   \n",
       "4                    IN        18.9750         72.8258   \n",
       "\n",
       "                                           SOURCEURL       EventTimeDate  \\\n",
       "0  https://www.aninews.in/news/world/asia/china-a... 2021-03-01 20:45:00   \n",
       "1  https://www.aninews.in/news/world/asia/china-a... 2021-03-01 20:45:00   \n",
       "2  https://www.aninews.in/news/world/asia/china-a... 2021-03-01 20:45:00   \n",
       "3  https://www.techshout.com/security/2021/01/chi... 2021-03-01 20:45:00   \n",
       "4  https://www.techshout.com/security/2021/01/chi... 2021-03-01 20:45:00   \n",
       "\n",
       "      MentionTimeDate  Confidence  MentionDocTone  DaysBetween  \n",
       "0 2021-03-01 20:45:00          20       -6.529210            0  \n",
       "1 2021-03-01 20:45:00          20       -6.529210            0  \n",
       "2 2021-03-01 20:45:00          60       -6.529210            0  \n",
       "3 2021-03-01 20:45:00          40       -4.385965            0  \n",
       "4 2021-03-01 20:45:00          40       -4.385965            0  "
      ]
     },
     "execution_count": 11,
     "metadata": {},
     "output_type": "execute_result"
    }
   ],
   "source": [
    "print('Events Data: ', gdelt_se_df.shape)\n",
    "print('Mentions Data: ', gdelt_sm_60d_df.shape)\n",
    "\n",
    "# Merge dataframes\n",
    "merged_df = gdelt_se_df.merge(gdelt_sm_60d_df, how='left', on='GLOBALEVENTID')\n",
    "print('Merged Data w/ Duplicates: ', merged_df.shape)\n",
    "\n",
    "# Drop duplicates\n",
    "merged_df = merged_df.drop_duplicates()\n",
    "print('Merged Data w/o Duplicates: ',merged_df.shape)\n",
    "print(merged_df.info())\n",
    "merged_df.head()"
   ]
  },
  {
   "cell_type": "markdown",
   "id": "crude-indian",
   "metadata": {},
   "source": [
    "#### Group Mentions Data by GlobalEventId for Average Confidence and Mention Tone"
   ]
  },
  {
   "cell_type": "code",
   "execution_count": 39,
   "id": "medieval-lawrence",
   "metadata": {
    "scrolled": false
   },
   "outputs": [
    {
     "ename": "KeyError",
     "evalue": "'EventTimeDate'",
     "output_type": "error",
     "traceback": [
      "\u001b[0;31m---------------------------------------------------------------------------\u001b[0m",
      "\u001b[0;31mKeyError\u001b[0m                                  Traceback (most recent call last)",
      "\u001b[0;32m<ipython-input-39-130670289f86>\u001b[0m in \u001b[0;36m<module>\u001b[0;34m\u001b[0m\n\u001b[1;32m      8\u001b[0m \u001b[0;34m\u001b[0m\u001b[0m\n\u001b[1;32m      9\u001b[0m     \u001b[0;31m# 3 day average\u001b[0m\u001b[0;34m\u001b[0m\u001b[0;34m\u001b[0m\u001b[0;34m\u001b[0m\u001b[0m\n\u001b[0;32m---> 10\u001b[0;31m     \u001b[0mge_grouped_df\u001b[0m \u001b[0;34m=\u001b[0m \u001b[0mge_df\u001b[0m\u001b[0;34m.\u001b[0m\u001b[0mgroupby\u001b[0m\u001b[0;34m(\u001b[0m\u001b[0;34m[\u001b[0m\u001b[0;34m'GLOBALEVENTID'\u001b[0m\u001b[0;34m,\u001b[0m \u001b[0;34m'EventTimeDate'\u001b[0m\u001b[0;34m]\u001b[0m\u001b[0;34m)\u001b[0m\u001b[0;34m.\u001b[0m\u001b[0mmean\u001b[0m\u001b[0;34m(\u001b[0m\u001b[0;34m)\u001b[0m \u001b[0;31m# get mean Confidence, Tone, DaysBetween\u001b[0m\u001b[0;34m\u001b[0m\u001b[0;34m\u001b[0m\u001b[0m\n\u001b[0m\u001b[1;32m     11\u001b[0m \u001b[0;34m\u001b[0m\u001b[0m\n",
      "\u001b[0;32m~/miniconda3/lib/python3.8/site-packages/pandas/core/frame.py\u001b[0m in \u001b[0;36mgroupby\u001b[0;34m(self, by, axis, level, as_index, sort, group_keys, squeeze, observed, dropna)\u001b[0m\n\u001b[1;32m   6712\u001b[0m         \u001b[0maxis\u001b[0m \u001b[0;34m=\u001b[0m \u001b[0mself\u001b[0m\u001b[0;34m.\u001b[0m\u001b[0m_get_axis_number\u001b[0m\u001b[0;34m(\u001b[0m\u001b[0maxis\u001b[0m\u001b[0;34m)\u001b[0m\u001b[0;34m\u001b[0m\u001b[0;34m\u001b[0m\u001b[0m\n\u001b[1;32m   6713\u001b[0m \u001b[0;34m\u001b[0m\u001b[0m\n\u001b[0;32m-> 6714\u001b[0;31m         return DataFrameGroupBy(\n\u001b[0m\u001b[1;32m   6715\u001b[0m             \u001b[0mobj\u001b[0m\u001b[0;34m=\u001b[0m\u001b[0mself\u001b[0m\u001b[0;34m,\u001b[0m\u001b[0;34m\u001b[0m\u001b[0;34m\u001b[0m\u001b[0m\n\u001b[1;32m   6716\u001b[0m             \u001b[0mkeys\u001b[0m\u001b[0;34m=\u001b[0m\u001b[0mby\u001b[0m\u001b[0;34m,\u001b[0m\u001b[0;34m\u001b[0m\u001b[0;34m\u001b[0m\u001b[0m\n",
      "\u001b[0;32m~/miniconda3/lib/python3.8/site-packages/pandas/core/groupby/groupby.py\u001b[0m in \u001b[0;36m__init__\u001b[0;34m(self, obj, keys, axis, level, grouper, exclusions, selection, as_index, sort, group_keys, squeeze, observed, mutated, dropna)\u001b[0m\n\u001b[1;32m    558\u001b[0m             \u001b[0;32mfrom\u001b[0m \u001b[0mpandas\u001b[0m\u001b[0;34m.\u001b[0m\u001b[0mcore\u001b[0m\u001b[0;34m.\u001b[0m\u001b[0mgroupby\u001b[0m\u001b[0;34m.\u001b[0m\u001b[0mgrouper\u001b[0m \u001b[0;32mimport\u001b[0m \u001b[0mget_grouper\u001b[0m\u001b[0;34m\u001b[0m\u001b[0;34m\u001b[0m\u001b[0m\n\u001b[1;32m    559\u001b[0m \u001b[0;34m\u001b[0m\u001b[0m\n\u001b[0;32m--> 560\u001b[0;31m             grouper, exclusions, obj = get_grouper(\n\u001b[0m\u001b[1;32m    561\u001b[0m                 \u001b[0mobj\u001b[0m\u001b[0;34m,\u001b[0m\u001b[0;34m\u001b[0m\u001b[0;34m\u001b[0m\u001b[0m\n\u001b[1;32m    562\u001b[0m                 \u001b[0mkeys\u001b[0m\u001b[0;34m,\u001b[0m\u001b[0;34m\u001b[0m\u001b[0;34m\u001b[0m\u001b[0m\n",
      "\u001b[0;32m~/miniconda3/lib/python3.8/site-packages/pandas/core/groupby/grouper.py\u001b[0m in \u001b[0;36mget_grouper\u001b[0;34m(obj, key, axis, level, sort, observed, mutated, validate, dropna)\u001b[0m\n\u001b[1;32m    809\u001b[0m                 \u001b[0min_axis\u001b[0m\u001b[0;34m,\u001b[0m \u001b[0mname\u001b[0m\u001b[0;34m,\u001b[0m \u001b[0mlevel\u001b[0m\u001b[0;34m,\u001b[0m \u001b[0mgpr\u001b[0m \u001b[0;34m=\u001b[0m \u001b[0;32mFalse\u001b[0m\u001b[0;34m,\u001b[0m \u001b[0;32mNone\u001b[0m\u001b[0;34m,\u001b[0m \u001b[0mgpr\u001b[0m\u001b[0;34m,\u001b[0m \u001b[0;32mNone\u001b[0m\u001b[0;34m\u001b[0m\u001b[0;34m\u001b[0m\u001b[0m\n\u001b[1;32m    810\u001b[0m             \u001b[0;32melse\u001b[0m\u001b[0;34m:\u001b[0m\u001b[0;34m\u001b[0m\u001b[0;34m\u001b[0m\u001b[0m\n\u001b[0;32m--> 811\u001b[0;31m                 \u001b[0;32mraise\u001b[0m \u001b[0mKeyError\u001b[0m\u001b[0;34m(\u001b[0m\u001b[0mgpr\u001b[0m\u001b[0;34m)\u001b[0m\u001b[0;34m\u001b[0m\u001b[0;34m\u001b[0m\u001b[0m\n\u001b[0m\u001b[1;32m    812\u001b[0m         \u001b[0;32melif\u001b[0m \u001b[0misinstance\u001b[0m\u001b[0;34m(\u001b[0m\u001b[0mgpr\u001b[0m\u001b[0;34m,\u001b[0m \u001b[0mGrouper\u001b[0m\u001b[0;34m)\u001b[0m \u001b[0;32mand\u001b[0m \u001b[0mgpr\u001b[0m\u001b[0;34m.\u001b[0m\u001b[0mkey\u001b[0m \u001b[0;32mis\u001b[0m \u001b[0;32mnot\u001b[0m \u001b[0;32mNone\u001b[0m\u001b[0;34m:\u001b[0m\u001b[0;34m\u001b[0m\u001b[0;34m\u001b[0m\u001b[0m\n\u001b[1;32m    813\u001b[0m             \u001b[0;31m# Add key to exclusions\u001b[0m\u001b[0;34m\u001b[0m\u001b[0;34m\u001b[0m\u001b[0;34m\u001b[0m\u001b[0m\n",
      "\u001b[0;31mKeyError\u001b[0m: 'EventTimeDate'"
     ]
    }
   ],
   "source": [
    "agg_cols = ['GLOBALEVENTID','Confidence', 'MentionDocTone']\n",
    "\n",
    "gdelt_sm_60d_agg_df = pd.DataFrame()\n",
    "\n",
    "for gId in gdelt_sm_60d_df['GLOBALEVENTID'].unique():\n",
    "    \n",
    "    ge_df = gdelt_sm_60d_df.loc[ gdelt_sm_60d_df['GLOBALEVENTID'] == gId ][agg_cols]\n",
    "    \n",
    "    # 3 day average\n",
    "    ge_grouped_df = ge_df.groupby(['GLOBALEVENTID', 'EventTimeDate']).mean() # get mean Confidence, Tone, DaysBetween\n",
    "    "
   ]
  },
  {
   "cell_type": "code",
   "execution_count": null,
   "id": "promotional-cowboy",
   "metadata": {},
   "outputs": [],
   "source": []
  },
  {
   "cell_type": "code",
   "execution_count": null,
   "id": "english-playing",
   "metadata": {},
   "outputs": [],
   "source": []
  },
  {
   "cell_type": "code",
   "execution_count": null,
   "id": "bronze-gossip",
   "metadata": {},
   "outputs": [],
   "source": []
  },
  {
   "cell_type": "code",
   "execution_count": null,
   "id": "fixed-belief",
   "metadata": {},
   "outputs": [],
   "source": []
  },
  {
   "cell_type": "code",
   "execution_count": null,
   "id": "electrical-equation",
   "metadata": {},
   "outputs": [],
   "source": []
  },
  {
   "cell_type": "code",
   "execution_count": null,
   "id": "found-progress",
   "metadata": {},
   "outputs": [],
   "source": []
  }
 ],
 "metadata": {
  "kernelspec": {
   "display_name": "Python 3",
   "language": "python",
   "name": "python3"
  },
  "language_info": {
   "codemirror_mode": {
    "name": "ipython",
    "version": 3
   },
   "file_extension": ".py",
   "mimetype": "text/x-python",
   "name": "python",
   "nbconvert_exporter": "python",
   "pygments_lexer": "ipython3",
   "version": "3.8.5"
  }
 },
 "nbformat": 4,
 "nbformat_minor": 5
}
