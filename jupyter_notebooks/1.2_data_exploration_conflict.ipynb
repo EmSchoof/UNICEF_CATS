{
 "cells": [
  {
   "cell_type": "markdown",
   "id": "antique-tactics",
   "metadata": {},
   "source": [
    "### Import Modules and Python Functions"
   ]
  },
  {
   "cell_type": "code",
   "execution_count": 1,
   "id": "changing-share",
   "metadata": {},
   "outputs": [],
   "source": [
    "import os\n",
    "import numpy as np\n",
    "import pandas as pd\n",
    "import yaml\n",
    "with open('../python/variables.yaml') as info:\n",
    "    VARS = yaml.load(info, Loader=yaml.FullLoader)\n",
    "\n",
    "# visualization modules\n",
    "import seaborn as sns; sns.set(style=\"darkgrid\")\n",
    "import matplotlib.pyplot as plt\n",
    "from random import randint\n",
    "from pylab import rcParams"
   ]
  },
  {
   "cell_type": "markdown",
   "id": "solar-scout",
   "metadata": {},
   "source": [
    "### Import Variables"
   ]
  },
  {
   "cell_type": "code",
   "execution_count": 2,
   "id": "intelligent-guard",
   "metadata": {},
   "outputs": [],
   "source": [
    "# Events\n",
    "events_csv = VARS['EVENTS_CSV']\n",
    "events_cols_all = VARS['EVENTS_COLS_ALL']\n",
    "events_cols_select = VARS['EVENTS_COLS_SELECT']\n",
    "\n",
    "# Mentions\n",
    "mentions_csv = VARS['MENTIONS_CSV']\n",
    "mentions_cols_all = VARS['MENTIONS_COLS_ALL']\n",
    "mentions_cols_select = VARS['MENTIONS_COLS_SELECT']\n",
    "\n",
    "# Pilot\n",
    "cameo_verbs = VARS['CAMEO_VERBS']\n",
    "cameo_quadclass = VARS['CAMEO_QUADCLASS']\n",
    "select_countries_60 = VARS['PILOT_COUNTRIES_IOS2']"
   ]
  },
  {
   "cell_type": "markdown",
   "id": "caroline-dominican",
   "metadata": {},
   "source": [
    "### Define Reusable Python Functions"
   ]
  },
  {
   "cell_type": "code",
   "execution_count": 3,
   "id": "continued-intention",
   "metadata": {},
   "outputs": [],
   "source": [
    "def get_var_percentages(df: pd, target_col: str, sort=False) -> pd:\n",
    "    \"\"\"Get Percentage of Column Values in Target Column of Cleaned GDELT Data\n",
    "    :param df: dataframe of cleaned data\n",
    "    :param target_col: column name of variable of interest\n",
    "    :rtype: dataframe\n",
    "    :return: dataframe\n",
    "    \"\"\"\n",
    "\n",
    "    # Create a sub-dataframe to group GLOBALEVENTID by Target Column\n",
    "    grouped_df = df[['GLOBALEVENTID', target_col]].groupby(target_col).count()\n",
    "    \n",
    "    # Get variable percentage                                                                \n",
    "    grouped_df['%'] = (grouped_df['GLOBALEVENTID'] / grouped_df['GLOBALEVENTID'].sum()) * 100\n",
    "    \n",
    "    if sort==True:\n",
    "        grouped_df = grouped_df.sort_values(by='%', ascending=False).reset_index()\n",
    "    \n",
    "    return grouped_df"
   ]
  },
  {
   "cell_type": "code",
   "execution_count": 4,
   "id": "usual-access",
   "metadata": {},
   "outputs": [],
   "source": [
    "def plot_piechart(df: pd, target_cols: str, pie_title: str, save_png: str) -> pd:\n",
    "    \"\"\" Create colorful pie chart showing percent of events by variable label\n",
    "    :param df: dataframe created via the get_var_percentages() function\n",
    "    :param target_cols: target column in the get_var_percentages() function\n",
    "    :param pie_title: target column string for pie chart title\n",
    "    :param save_png: string based on the target column for storing png\n",
    "    \"\"\"\n",
    "    # Create color list for pie chart visualization\n",
    "    labels = df[target_cols]\n",
    "    colors = []\n",
    "    for i in range(len(labels)):\n",
    "        colors.append('#%06X' % randint(0, 0xFFFFFF))\n",
    "    \n",
    "    if len(np.unique(labels)) > 8:\n",
    "        rcParams['figure.figsize'] = 30,30\n",
    "    else:\n",
    "        rcParams['figure.figsize'] = 8,8\n",
    "\n",
    "    # Plot\n",
    "    plt.pie(df['%'], colors=colors, labels=labels, autopct='%1.1f%%')\n",
    "    plt.title('Percentage of Events by '+ pie_title)\n",
    "    plt.savefig('../images/conflict_' + save_png + '.png', dpi=300)\n",
    "    plt.show()"
   ]
  },
  {
   "cell_type": "markdown",
   "id": "coupled-primary",
   "metadata": {},
   "source": [
    "### Import Data"
   ]
  },
  {
   "cell_type": "code",
   "execution_count": 5,
   "id": "relevant-wrestling",
   "metadata": {},
   "outputs": [
    {
     "name": "stdout",
     "output_type": "stream",
     "text": [
      "(1273, 14)\n"
     ]
    },
    {
     "data": {
      "text/html": [
       "<div>\n",
       "<style scoped>\n",
       "    .dataframe tbody tr th:only-of-type {\n",
       "        vertical-align: middle;\n",
       "    }\n",
       "\n",
       "    .dataframe tbody tr th {\n",
       "        vertical-align: top;\n",
       "    }\n",
       "\n",
       "    .dataframe thead th {\n",
       "        text-align: right;\n",
       "    }\n",
       "</style>\n",
       "<table border=\"1\" class=\"dataframe\">\n",
       "  <thead>\n",
       "    <tr style=\"text-align: right;\">\n",
       "      <th></th>\n",
       "      <th>GLOBALEVENTID</th>\n",
       "      <th>EventTimeDate</th>\n",
       "      <th>MentionTimeDate</th>\n",
       "      <th>DaysBetween</th>\n",
       "      <th>Confidence</th>\n",
       "      <th>MentionDocTone</th>\n",
       "      <th>ActionGeo_CountryCode</th>\n",
       "      <th>ActionGeo_FullName</th>\n",
       "      <th>EventCode</th>\n",
       "      <th>QuadClass</th>\n",
       "      <th>GoldsteinScale</th>\n",
       "      <th>ActionGeo_Lat</th>\n",
       "      <th>ActionGeo_Long</th>\n",
       "      <th>SOURCEURL</th>\n",
       "    </tr>\n",
       "  </thead>\n",
       "  <tbody>\n",
       "    <tr>\n",
       "      <th>0</th>\n",
       "      <td>972833876</td>\n",
       "      <td>2021-03-04 18:45:00</td>\n",
       "      <td>2021-03-04 18:45:00</td>\n",
       "      <td>0</td>\n",
       "      <td>10</td>\n",
       "      <td>5.288462</td>\n",
       "      <td>US</td>\n",
       "      <td>Baltimore, Maryland, United States</td>\n",
       "      <td>51</td>\n",
       "      <td>1</td>\n",
       "      <td>3.4</td>\n",
       "      <td>39.2904</td>\n",
       "      <td>-76.6122</td>\n",
       "      <td>https://patch.com/maryland/fallston/boyle-buic...</td>\n",
       "    </tr>\n",
       "    <tr>\n",
       "      <th>1</th>\n",
       "      <td>972833877</td>\n",
       "      <td>2021-03-04 18:45:00</td>\n",
       "      <td>2021-03-04 18:45:00</td>\n",
       "      <td>0</td>\n",
       "      <td>10</td>\n",
       "      <td>5.288462</td>\n",
       "      <td>US</td>\n",
       "      <td>Maryland, United States</td>\n",
       "      <td>51</td>\n",
       "      <td>1</td>\n",
       "      <td>3.4</td>\n",
       "      <td>39.0724</td>\n",
       "      <td>-76.7902</td>\n",
       "      <td>https://patch.com/maryland/fallston/boyle-buic...</td>\n",
       "    </tr>\n",
       "    <tr>\n",
       "      <th>2</th>\n",
       "      <td>972833878</td>\n",
       "      <td>2021-03-04 18:45:00</td>\n",
       "      <td>2021-03-04 18:45:00</td>\n",
       "      <td>0</td>\n",
       "      <td>30</td>\n",
       "      <td>5.084746</td>\n",
       "      <td>US</td>\n",
       "      <td>Long Island, California, United States</td>\n",
       "      <td>10</td>\n",
       "      <td>1</td>\n",
       "      <td>0.0</td>\n",
       "      <td>38.1669</td>\n",
       "      <td>-121.6250</td>\n",
       "      <td>http://www.nydailynews.com/snyde/ny-party-down...</td>\n",
       "    </tr>\n",
       "    <tr>\n",
       "      <th>3</th>\n",
       "      <td>972833879</td>\n",
       "      <td>2021-03-04 18:45:00</td>\n",
       "      <td>2021-03-04 18:45:00</td>\n",
       "      <td>0</td>\n",
       "      <td>40</td>\n",
       "      <td>0.223714</td>\n",
       "      <td>RS</td>\n",
       "      <td>Russia</td>\n",
       "      <td>50</td>\n",
       "      <td>1</td>\n",
       "      <td>3.5</td>\n",
       "      <td>60.0000</td>\n",
       "      <td>100.0000</td>\n",
       "      <td>http://www.tribtown.com/2021/03/04/ap-eu-virus...</td>\n",
       "    </tr>\n",
       "    <tr>\n",
       "      <th>4</th>\n",
       "      <td>972833880</td>\n",
       "      <td>2021-03-04 18:45:00</td>\n",
       "      <td>2021-03-04 18:45:00</td>\n",
       "      <td>0</td>\n",
       "      <td>50</td>\n",
       "      <td>0.641849</td>\n",
       "      <td>IN</td>\n",
       "      <td>Ahmedabad, Gujarat, India</td>\n",
       "      <td>120</td>\n",
       "      <td>3</td>\n",
       "      <td>-4.0</td>\n",
       "      <td>23.0333</td>\n",
       "      <td>72.6167</td>\n",
       "      <td>https://www.business-standard.com/article/opin...</td>\n",
       "    </tr>\n",
       "  </tbody>\n",
       "</table>\n",
       "</div>"
      ],
      "text/plain": [
       "   GLOBALEVENTID       EventTimeDate     MentionTimeDate  DaysBetween  \\\n",
       "0      972833876 2021-03-04 18:45:00 2021-03-04 18:45:00            0   \n",
       "1      972833877 2021-03-04 18:45:00 2021-03-04 18:45:00            0   \n",
       "2      972833878 2021-03-04 18:45:00 2021-03-04 18:45:00            0   \n",
       "3      972833879 2021-03-04 18:45:00 2021-03-04 18:45:00            0   \n",
       "4      972833880 2021-03-04 18:45:00 2021-03-04 18:45:00            0   \n",
       "\n",
       "   Confidence  MentionDocTone ActionGeo_CountryCode  \\\n",
       "0          10        5.288462                    US   \n",
       "1          10        5.288462                    US   \n",
       "2          30        5.084746                    US   \n",
       "3          40        0.223714                    RS   \n",
       "4          50        0.641849                    IN   \n",
       "\n",
       "                       ActionGeo_FullName  EventCode  QuadClass  \\\n",
       "0      Baltimore, Maryland, United States         51          1   \n",
       "1                 Maryland, United States         51          1   \n",
       "2  Long Island, California, United States         10          1   \n",
       "3                                  Russia         50          1   \n",
       "4               Ahmedabad, Gujarat, India        120          3   \n",
       "\n",
       "   GoldsteinScale  ActionGeo_Lat  ActionGeo_Long  \\\n",
       "0             3.4        39.2904        -76.6122   \n",
       "1             3.4        39.0724        -76.7902   \n",
       "2             0.0        38.1669       -121.6250   \n",
       "3             3.5        60.0000        100.0000   \n",
       "4            -4.0        23.0333         72.6167   \n",
       "\n",
       "                                           SOURCEURL  \n",
       "0  https://patch.com/maryland/fallston/boyle-buic...  \n",
       "1  https://patch.com/maryland/fallston/boyle-buic...  \n",
       "2  http://www.nydailynews.com/snyde/ny-party-down...  \n",
       "3  http://www.tribtown.com/2021/03/04/ap-eu-virus...  \n",
       "4  https://www.business-standard.com/article/opin...  "
      ]
     },
     "execution_count": 5,
     "metadata": {},
     "output_type": "execute_result"
    }
   ],
   "source": [
    "# Store dataframe globally\n",
    "%store -r cleaned_merged_df\n",
    "print(cleaned_merged_df.shape)\n",
    "cleaned_merged_df.head()"
   ]
  },
  {
   "cell_type": "markdown",
   "id": "electric-share",
   "metadata": {},
   "source": [
    "### Select Conflict Data (QuadClass=[3,4])"
   ]
  },
  {
   "cell_type": "code",
   "execution_count": 6,
   "id": "breathing-nutrition",
   "metadata": {},
   "outputs": [
    {
     "name": "stdout",
     "output_type": "stream",
     "text": [
      "(405, 14)\n"
     ]
    },
    {
     "data": {
      "text/html": [
       "<div>\n",
       "<style scoped>\n",
       "    .dataframe tbody tr th:only-of-type {\n",
       "        vertical-align: middle;\n",
       "    }\n",
       "\n",
       "    .dataframe tbody tr th {\n",
       "        vertical-align: top;\n",
       "    }\n",
       "\n",
       "    .dataframe thead th {\n",
       "        text-align: right;\n",
       "    }\n",
       "</style>\n",
       "<table border=\"1\" class=\"dataframe\">\n",
       "  <thead>\n",
       "    <tr style=\"text-align: right;\">\n",
       "      <th></th>\n",
       "      <th>GLOBALEVENTID</th>\n",
       "      <th>EventTimeDate</th>\n",
       "      <th>MentionTimeDate</th>\n",
       "      <th>DaysBetween</th>\n",
       "      <th>Confidence</th>\n",
       "      <th>MentionDocTone</th>\n",
       "      <th>ActionGeo_CountryCode</th>\n",
       "      <th>ActionGeo_FullName</th>\n",
       "      <th>EventCode</th>\n",
       "      <th>QuadClass</th>\n",
       "      <th>GoldsteinScale</th>\n",
       "      <th>ActionGeo_Lat</th>\n",
       "      <th>ActionGeo_Long</th>\n",
       "      <th>SOURCEURL</th>\n",
       "    </tr>\n",
       "  </thead>\n",
       "  <tbody>\n",
       "    <tr>\n",
       "      <th>0</th>\n",
       "      <td>972833880</td>\n",
       "      <td>2021-03-04 18:45:00</td>\n",
       "      <td>2021-03-04 18:45:00</td>\n",
       "      <td>0</td>\n",
       "      <td>50</td>\n",
       "      <td>0.641849</td>\n",
       "      <td>IN</td>\n",
       "      <td>Ahmedabad, Gujarat, India</td>\n",
       "      <td>120</td>\n",
       "      <td>3</td>\n",
       "      <td>-4.0</td>\n",
       "      <td>23.033300</td>\n",
       "      <td>72.616700</td>\n",
       "      <td>https://www.business-standard.com/article/opin...</td>\n",
       "    </tr>\n",
       "    <tr>\n",
       "      <th>1</th>\n",
       "      <td>972833883</td>\n",
       "      <td>2021-03-04 18:45:00</td>\n",
       "      <td>2021-03-04 18:45:00</td>\n",
       "      <td>0</td>\n",
       "      <td>100</td>\n",
       "      <td>-2.212389</td>\n",
       "      <td>BB</td>\n",
       "      <td>Barbados</td>\n",
       "      <td>160</td>\n",
       "      <td>4</td>\n",
       "      <td>-4.0</td>\n",
       "      <td>13.166667</td>\n",
       "      <td>-59.533333</td>\n",
       "      <td>https://barbadostoday.bb/2021/03/04/uk-could-i...</td>\n",
       "    </tr>\n",
       "    <tr>\n",
       "      <th>2</th>\n",
       "      <td>972833891</td>\n",
       "      <td>2021-03-04 18:45:00</td>\n",
       "      <td>2021-03-04 18:45:00</td>\n",
       "      <td>0</td>\n",
       "      <td>30</td>\n",
       "      <td>0.000000</td>\n",
       "      <td>US</td>\n",
       "      <td>Los Angeles County, California, United States</td>\n",
       "      <td>190</td>\n",
       "      <td>4</td>\n",
       "      <td>-10.0</td>\n",
       "      <td>34.366700</td>\n",
       "      <td>-118.201000</td>\n",
       "      <td>https://www.courthousenews.com/pelosi-denies-s...</td>\n",
       "    </tr>\n",
       "    <tr>\n",
       "      <th>3</th>\n",
       "      <td>972833892</td>\n",
       "      <td>2021-03-04 18:45:00</td>\n",
       "      <td>2021-03-04 18:45:00</td>\n",
       "      <td>0</td>\n",
       "      <td>20</td>\n",
       "      <td>0.000000</td>\n",
       "      <td>US</td>\n",
       "      <td>Georgia, United States</td>\n",
       "      <td>190</td>\n",
       "      <td>4</td>\n",
       "      <td>-10.0</td>\n",
       "      <td>32.986600</td>\n",
       "      <td>-83.648700</td>\n",
       "      <td>https://www.courthousenews.com/pelosi-denies-s...</td>\n",
       "    </tr>\n",
       "    <tr>\n",
       "      <th>4</th>\n",
       "      <td>972833895</td>\n",
       "      <td>2021-03-04 18:45:00</td>\n",
       "      <td>2021-03-04 18:45:00</td>\n",
       "      <td>0</td>\n",
       "      <td>50</td>\n",
       "      <td>3.225806</td>\n",
       "      <td>US</td>\n",
       "      <td>New York, United States</td>\n",
       "      <td>111</td>\n",
       "      <td>3</td>\n",
       "      <td>-2.0</td>\n",
       "      <td>42.149700</td>\n",
       "      <td>-74.938400</td>\n",
       "      <td>https://www.vladtv.com/article/270115/square-a...</td>\n",
       "    </tr>\n",
       "  </tbody>\n",
       "</table>\n",
       "</div>"
      ],
      "text/plain": [
       "   GLOBALEVENTID       EventTimeDate     MentionTimeDate  DaysBetween  \\\n",
       "0      972833880 2021-03-04 18:45:00 2021-03-04 18:45:00            0   \n",
       "1      972833883 2021-03-04 18:45:00 2021-03-04 18:45:00            0   \n",
       "2      972833891 2021-03-04 18:45:00 2021-03-04 18:45:00            0   \n",
       "3      972833892 2021-03-04 18:45:00 2021-03-04 18:45:00            0   \n",
       "4      972833895 2021-03-04 18:45:00 2021-03-04 18:45:00            0   \n",
       "\n",
       "   Confidence  MentionDocTone ActionGeo_CountryCode  \\\n",
       "0          50        0.641849                    IN   \n",
       "1         100       -2.212389                    BB   \n",
       "2          30        0.000000                    US   \n",
       "3          20        0.000000                    US   \n",
       "4          50        3.225806                    US   \n",
       "\n",
       "                              ActionGeo_FullName  EventCode  QuadClass  \\\n",
       "0                      Ahmedabad, Gujarat, India        120          3   \n",
       "1                                       Barbados        160          4   \n",
       "2  Los Angeles County, California, United States        190          4   \n",
       "3                         Georgia, United States        190          4   \n",
       "4                        New York, United States        111          3   \n",
       "\n",
       "   GoldsteinScale  ActionGeo_Lat  ActionGeo_Long  \\\n",
       "0            -4.0      23.033300       72.616700   \n",
       "1            -4.0      13.166667      -59.533333   \n",
       "2           -10.0      34.366700     -118.201000   \n",
       "3           -10.0      32.986600      -83.648700   \n",
       "4            -2.0      42.149700      -74.938400   \n",
       "\n",
       "                                           SOURCEURL  \n",
       "0  https://www.business-standard.com/article/opin...  \n",
       "1  https://barbadostoday.bb/2021/03/04/uk-could-i...  \n",
       "2  https://www.courthousenews.com/pelosi-denies-s...  \n",
       "3  https://www.courthousenews.com/pelosi-denies-s...  \n",
       "4  https://www.vladtv.com/article/270115/square-a...  "
      ]
     },
     "execution_count": 6,
     "metadata": {},
     "output_type": "execute_result"
    }
   ],
   "source": [
    "conflict_df = cleaned_merged_df.loc[ cleaned_merged_df['QuadClass'].isin([3,4]) ].reset_index(drop=True)\n",
    "print(conflict_df.shape)\n",
    "conflict_df.head()"
   ]
  },
  {
   "cell_type": "code",
   "execution_count": 7,
   "id": "indirect-level",
   "metadata": {},
   "outputs": [
    {
     "data": {
      "text/plain": [
       "Index(['GLOBALEVENTID', 'EventTimeDate', 'MentionTimeDate', 'DaysBetween',\n",
       "       'Confidence', 'MentionDocTone', 'ActionGeo_CountryCode',\n",
       "       'ActionGeo_FullName', 'EventCode', 'QuadClass', 'GoldsteinScale',\n",
       "       'ActionGeo_Lat', 'ActionGeo_Long', 'SOURCEURL'],\n",
       "      dtype='object')"
      ]
     },
     "execution_count": 7,
     "metadata": {},
     "output_type": "execute_result"
    }
   ],
   "source": [
    "conflict_df.columns"
   ]
  },
  {
   "cell_type": "markdown",
   "id": "educational-installation",
   "metadata": {},
   "source": [
    "## Assess Metrics"
   ]
  },
  {
   "cell_type": "code",
   "execution_count": 8,
   "id": "junior-homeless",
   "metadata": {},
   "outputs": [
    {
     "data": {
      "text/plain": [
       "<seaborn.axisgrid.PairGrid at 0x7fb6eec52880>"
      ]
     },
     "execution_count": 8,
     "metadata": {},
     "output_type": "execute_result"
    },
    {
     "data": {
      "image/png": "[encoded data removed]",
      "text/plain": [
       "<Figure size 720x720 with 20 Axes>"
      ]
     },
     "metadata": {},
     "output_type": "display_data"
    }
   ],
   "source": [
    "sns.pairplot(conflict_df[['QuadClass','GoldsteinScale','Confidence','MentionDocTone']])"
   ]
  },
  {
   "cell_type": "markdown",
   "id": "nonprofit-advice",
   "metadata": {},
   "source": [
    "Observations: Similar to what was noted in the previous, total, in a brief exploration of correlation of variable relationships, there doesn't appear to be any sort of visually detectable relationship between the general tone (MentionDocTone) of a source, the validity score (Confidence) of a source to the resulting behavioral (Quad) class and calculated Goldstein score of an event; there is a visually detectable relationship between between the behavioral (Quad) class and Goldstein score of an event, which is to be expected. This exploration is briefly placed on hold until after the meeting with the Data Engineers to establish the most efficient pipeline to import GDELT's data (02 March 2021)"
   ]
  },
  {
   "cell_type": "markdown",
   "id": "isolated-rating",
   "metadata": {},
   "source": [
    "### Question 1: What is the Percentage of Events per QuadClass? What is the MODE Confidence and Tone per QuadClass?"
   ]
  },
  {
   "cell_type": "markdown",
   "id": "logical-delicious",
   "metadata": {},
   "source": [
    "#### Percentage of Events by QuadClass"
   ]
  },
  {
   "cell_type": "code",
   "execution_count": 9,
   "id": "induced-watson",
   "metadata": {},
   "outputs": [
    {
     "ename": "KeyError",
     "evalue": "\"['QuadClassString'] not in index\"",
     "output_type": "error",
     "traceback": [
      "\u001b[0;31m---------------------------------------------------------------------------\u001b[0m",
      "\u001b[0;31mKeyError\u001b[0m                                  Traceback (most recent call last)",
      "\u001b[0;32m<ipython-input-9-5a19f5d77351>\u001b[0m in \u001b[0;36m<module>\u001b[0;34m\u001b[0m\n\u001b[1;32m      1\u001b[0m \u001b[0;31m# Create a sub-dataframe to group GLOBALEVENTID by QuadClass\u001b[0m\u001b[0;34m\u001b[0m\u001b[0;34m\u001b[0m\u001b[0;34m\u001b[0m\u001b[0m\n\u001b[0;32m----> 2\u001b[0;31m \u001b[0mquadclass\u001b[0m \u001b[0;34m=\u001b[0m \u001b[0mget_var_percentages\u001b[0m\u001b[0;34m(\u001b[0m\u001b[0mconflict_df\u001b[0m\u001b[0;34m,\u001b[0m \u001b[0;34m'QuadClassString'\u001b[0m\u001b[0;34m,\u001b[0m \u001b[0msort\u001b[0m\u001b[0;34m=\u001b[0m\u001b[0;32mTrue\u001b[0m\u001b[0;34m)\u001b[0m\u001b[0;34m\u001b[0m\u001b[0;34m\u001b[0m\u001b[0m\n\u001b[0m\u001b[1;32m      3\u001b[0m \u001b[0mquadclass\u001b[0m\u001b[0;34m\u001b[0m\u001b[0;34m\u001b[0m\u001b[0m\n",
      "\u001b[0;32m<ipython-input-3-90a75fb9b44b>\u001b[0m in \u001b[0;36mget_var_percentages\u001b[0;34m(df, target_col, sort)\u001b[0m\n\u001b[1;32m      8\u001b[0m \u001b[0;34m\u001b[0m\u001b[0m\n\u001b[1;32m      9\u001b[0m     \u001b[0;31m# Create a sub-dataframe to group GLOBALEVENTID by Target Column\u001b[0m\u001b[0;34m\u001b[0m\u001b[0;34m\u001b[0m\u001b[0;34m\u001b[0m\u001b[0m\n\u001b[0;32m---> 10\u001b[0;31m     \u001b[0mgrouped_df\u001b[0m \u001b[0;34m=\u001b[0m \u001b[0mdf\u001b[0m\u001b[0;34m[\u001b[0m\u001b[0;34m[\u001b[0m\u001b[0;34m'GLOBALEVENTID'\u001b[0m\u001b[0;34m,\u001b[0m \u001b[0mtarget_col\u001b[0m\u001b[0;34m]\u001b[0m\u001b[0;34m]\u001b[0m\u001b[0;34m.\u001b[0m\u001b[0mgroupby\u001b[0m\u001b[0;34m(\u001b[0m\u001b[0mtarget_col\u001b[0m\u001b[0;34m)\u001b[0m\u001b[0;34m.\u001b[0m\u001b[0mcount\u001b[0m\u001b[0;34m(\u001b[0m\u001b[0;34m)\u001b[0m\u001b[0;34m\u001b[0m\u001b[0;34m\u001b[0m\u001b[0m\n\u001b[0m\u001b[1;32m     11\u001b[0m \u001b[0;34m\u001b[0m\u001b[0m\n\u001b[1;32m     12\u001b[0m     \u001b[0;31m# Get variable percentage\u001b[0m\u001b[0;34m\u001b[0m\u001b[0;34m\u001b[0m\u001b[0;34m\u001b[0m\u001b[0m\n",
      "\u001b[0;32m~/miniconda3/lib/python3.8/site-packages/pandas/core/frame.py\u001b[0m in \u001b[0;36m__getitem__\u001b[0;34m(self, key)\u001b[0m\n\u001b[1;32m   3028\u001b[0m             \u001b[0;32mif\u001b[0m \u001b[0mis_iterator\u001b[0m\u001b[0;34m(\u001b[0m\u001b[0mkey\u001b[0m\u001b[0;34m)\u001b[0m\u001b[0;34m:\u001b[0m\u001b[0;34m\u001b[0m\u001b[0;34m\u001b[0m\u001b[0m\n\u001b[1;32m   3029\u001b[0m                 \u001b[0mkey\u001b[0m \u001b[0;34m=\u001b[0m \u001b[0mlist\u001b[0m\u001b[0;34m(\u001b[0m\u001b[0mkey\u001b[0m\u001b[0;34m)\u001b[0m\u001b[0;34m\u001b[0m\u001b[0;34m\u001b[0m\u001b[0m\n\u001b[0;32m-> 3030\u001b[0;31m             \u001b[0mindexer\u001b[0m \u001b[0;34m=\u001b[0m \u001b[0mself\u001b[0m\u001b[0;34m.\u001b[0m\u001b[0mloc\u001b[0m\u001b[0;34m.\u001b[0m\u001b[0m_get_listlike_indexer\u001b[0m\u001b[0;34m(\u001b[0m\u001b[0mkey\u001b[0m\u001b[0;34m,\u001b[0m \u001b[0maxis\u001b[0m\u001b[0;34m=\u001b[0m\u001b[0;36m1\u001b[0m\u001b[0;34m,\u001b[0m \u001b[0mraise_missing\u001b[0m\u001b[0;34m=\u001b[0m\u001b[0;32mTrue\u001b[0m\u001b[0;34m)\u001b[0m\u001b[0;34m[\u001b[0m\u001b[0;36m1\u001b[0m\u001b[0;34m]\u001b[0m\u001b[0;34m\u001b[0m\u001b[0;34m\u001b[0m\u001b[0m\n\u001b[0m\u001b[1;32m   3031\u001b[0m \u001b[0;34m\u001b[0m\u001b[0m\n\u001b[1;32m   3032\u001b[0m         \u001b[0;31m# take() does not accept boolean indexers\u001b[0m\u001b[0;34m\u001b[0m\u001b[0;34m\u001b[0m\u001b[0;34m\u001b[0m\u001b[0m\n",
      "\u001b[0;32m~/miniconda3/lib/python3.8/site-packages/pandas/core/indexing.py\u001b[0m in \u001b[0;36m_get_listlike_indexer\u001b[0;34m(self, key, axis, raise_missing)\u001b[0m\n\u001b[1;32m   1264\u001b[0m             \u001b[0mkeyarr\u001b[0m\u001b[0;34m,\u001b[0m \u001b[0mindexer\u001b[0m\u001b[0;34m,\u001b[0m \u001b[0mnew_indexer\u001b[0m \u001b[0;34m=\u001b[0m \u001b[0max\u001b[0m\u001b[0;34m.\u001b[0m\u001b[0m_reindex_non_unique\u001b[0m\u001b[0;34m(\u001b[0m\u001b[0mkeyarr\u001b[0m\u001b[0;34m)\u001b[0m\u001b[0;34m\u001b[0m\u001b[0;34m\u001b[0m\u001b[0m\n\u001b[1;32m   1265\u001b[0m \u001b[0;34m\u001b[0m\u001b[0m\n\u001b[0;32m-> 1266\u001b[0;31m         \u001b[0mself\u001b[0m\u001b[0;34m.\u001b[0m\u001b[0m_validate_read_indexer\u001b[0m\u001b[0;34m(\u001b[0m\u001b[0mkeyarr\u001b[0m\u001b[0;34m,\u001b[0m \u001b[0mindexer\u001b[0m\u001b[0;34m,\u001b[0m \u001b[0maxis\u001b[0m\u001b[0;34m,\u001b[0m \u001b[0mraise_missing\u001b[0m\u001b[0;34m=\u001b[0m\u001b[0mraise_missing\u001b[0m\u001b[0;34m)\u001b[0m\u001b[0;34m\u001b[0m\u001b[0;34m\u001b[0m\u001b[0m\n\u001b[0m\u001b[1;32m   1267\u001b[0m         \u001b[0;32mreturn\u001b[0m \u001b[0mkeyarr\u001b[0m\u001b[0;34m,\u001b[0m \u001b[0mindexer\u001b[0m\u001b[0;34m\u001b[0m\u001b[0;34m\u001b[0m\u001b[0m\n\u001b[1;32m   1268\u001b[0m \u001b[0;34m\u001b[0m\u001b[0m\n",
      "\u001b[0;32m~/miniconda3/lib/python3.8/site-packages/pandas/core/indexing.py\u001b[0m in \u001b[0;36m_validate_read_indexer\u001b[0;34m(self, key, indexer, axis, raise_missing)\u001b[0m\n\u001b[1;32m   1314\u001b[0m             \u001b[0;32mif\u001b[0m \u001b[0mraise_missing\u001b[0m\u001b[0;34m:\u001b[0m\u001b[0;34m\u001b[0m\u001b[0;34m\u001b[0m\u001b[0m\n\u001b[1;32m   1315\u001b[0m                 \u001b[0mnot_found\u001b[0m \u001b[0;34m=\u001b[0m \u001b[0mlist\u001b[0m\u001b[0;34m(\u001b[0m\u001b[0mset\u001b[0m\u001b[0;34m(\u001b[0m\u001b[0mkey\u001b[0m\u001b[0;34m)\u001b[0m \u001b[0;34m-\u001b[0m \u001b[0mset\u001b[0m\u001b[0;34m(\u001b[0m\u001b[0max\u001b[0m\u001b[0;34m)\u001b[0m\u001b[0;34m)\u001b[0m\u001b[0;34m\u001b[0m\u001b[0;34m\u001b[0m\u001b[0m\n\u001b[0;32m-> 1316\u001b[0;31m                 \u001b[0;32mraise\u001b[0m \u001b[0mKeyError\u001b[0m\u001b[0;34m(\u001b[0m\u001b[0;34mf\"{not_found} not in index\"\u001b[0m\u001b[0;34m)\u001b[0m\u001b[0;34m\u001b[0m\u001b[0;34m\u001b[0m\u001b[0m\n\u001b[0m\u001b[1;32m   1317\u001b[0m \u001b[0;34m\u001b[0m\u001b[0m\n\u001b[1;32m   1318\u001b[0m             \u001b[0mnot_found\u001b[0m \u001b[0;34m=\u001b[0m \u001b[0mkey\u001b[0m\u001b[0;34m[\u001b[0m\u001b[0mmissing_mask\u001b[0m\u001b[0;34m]\u001b[0m\u001b[0;34m\u001b[0m\u001b[0;34m\u001b[0m\u001b[0m\n",
      "\u001b[0;31mKeyError\u001b[0m: \"['QuadClassString'] not in index\""
     ]
    }
   ],
   "source": [
    "# Create a sub-dataframe to group GLOBALEVENTID by QuadClass\n",
    "quadclass = get_var_percentages(conflict_df, 'QuadClassString', sort=True)\n",
    "quadclass"
   ]
  },
  {
   "cell_type": "markdown",
   "id": "interpreted-dinner",
   "metadata": {},
   "source": [
    "#### Visualize"
   ]
  },
  {
   "cell_type": "code",
   "execution_count": null,
   "id": "celtic-sellers",
   "metadata": {},
   "outputs": [],
   "source": [
    "plot_piechart(quadclass, 'QuadClassString', 'Cameo Quad Class in Conflict', 'cameo_quadclass_percentages')"
   ]
  },
  {
   "cell_type": "code",
   "execution_count": null,
   "id": "spoken-assignment",
   "metadata": {},
   "outputs": [],
   "source": [
    "# Create a sub-dataframe to group GLOBALEVENTID by QuadClass without US \n",
    "non_us_df = conflict_df.loc[ conflict_df['ActionGeo_CountryCode'] != 'US' ]\n",
    "non_us_quadclass = get_var_percentages(non_us_df, 'QuadClassString')\n",
    "non_us_quadclass"
   ]
  },
  {
   "cell_type": "markdown",
   "id": "characteristic-transcript",
   "metadata": {},
   "source": [
    "#### By Country"
   ]
  },
  {
   "cell_type": "code",
   "execution_count": null,
   "id": "arbitrary-poison",
   "metadata": {},
   "outputs": [],
   "source": [
    "len(conflict_df['ActionGeo_CountryCode'].unique())"
   ]
  },
  {
   "cell_type": "code",
   "execution_count": null,
   "id": "fuzzy-young",
   "metadata": {},
   "outputs": [],
   "source": [
    "country_conflicts_df = conflict_df[['ActionGeo_CountryCode', 'QuadClassString', 'GLOBALEVENTID']].groupby(\n",
    "    ['ActionGeo_CountryCode', 'QuadClassString'], as_index=False).count()\n",
    "country_conflicts_df.columns = ['Country', 'QuadClass', 'Number Events']\n",
    "country_conflicts_df.head()"
   ]
  },
  {
   "cell_type": "code",
   "execution_count": null,
   "id": "blocked-favorite",
   "metadata": {},
   "outputs": [],
   "source": [
    "# plot\n",
    "sns.barplot(x='Country', y='Number Events', hue='QuadClass', data=country_conflicts_df)\n",
    "plt.show()"
   ]
  },
  {
   "cell_type": "code",
   "execution_count": null,
   "id": "realistic-ratio",
   "metadata": {},
   "outputs": [],
   "source": [
    "# plot\n",
    "non_us_conflict_df = country_conflicts_df.loc[ country_conflicts_df['Country'] != 'US']\n",
    "sns.barplot('Country', y='Number Events', hue='QuadClass', data=non_us_conflict_df)\n",
    "plt.show()"
   ]
  },
  {
   "cell_type": "markdown",
   "id": "failing-virtue",
   "metadata": {},
   "source": [
    "Observations: While this needs to be assessed with more data, it appears that the US has substantially more records when compared to all other countries within this dataset. This exploration is briefly placed on hold until after the meeting with the Data Engineers to establish the most efficient pipeline to import GDELT's data (02 March 2021)"
   ]
  },
  {
   "cell_type": "markdown",
   "id": "fluid-mountain",
   "metadata": {},
   "source": [
    "Observations: While this needs to be assessed with more data, it does appear that QuadClass 1, meaning Verbal Cooperation, is the most prevelant, followed by QuadClass 4, Material Cooperation. However, is based on the previous section, it would be worthwhile to remove US-associated events and re-assess. This exploration is briefly placed on hold until after the meeting with the Data Engineers to establish the most efficient pipeline to import GDELT's data (02 March 2021)"
   ]
  },
  {
   "cell_type": "markdown",
   "id": "architectural-glossary",
   "metadata": {},
   "source": [
    "Observations: The propotions seemed to have remained roughly the same with a slight increase in QuadClass 1 and 4 and slight decreases in QuadClass 2 and 3. This exploration is briefly placed on hold until after the meeting with the Data Engineers to establish the most efficient pipeline to import GDELT's data (02 March 2021)"
   ]
  },
  {
   "cell_type": "markdown",
   "id": "elect-armenia",
   "metadata": {},
   "source": [
    "#### Specifically Explore Conflict in:\n",
    "- Afghanistan (AF)\n",
    "- Myanmar (MM)\n",
    "- "
   ]
  },
  {
   "cell_type": "code",
   "execution_count": null,
   "id": "automotive-charleston",
   "metadata": {},
   "outputs": [],
   "source": [
    "# create subdf\n",
    "known_conflict_df = country_conflicts_df.loc[ country_conflicts_df['Country'].isin(['AF', 'MM'])]\n",
    "print(known_conflict_df.shape)\n",
    "known_conflict_df.head()"
   ]
  },
  {
   "cell_type": "markdown",
   "id": "legitimate-mobile",
   "metadata": {},
   "source": [
    "#### Mode of Confidence and MentionDocTone Values by QuadClass"
   ]
  },
  {
   "cell_type": "code",
   "execution_count": null,
   "id": "precise-vault",
   "metadata": {},
   "outputs": [],
   "source": [
    "# Create a sub-dataframe to group GLOBALEVENTID by QuadClass\n",
    "quadclass_modes = conflict_df[['QuadClass','Confidence','MentionDocTone']\n",
    "                                   ].groupby('QuadClass').agg(lambda x: pd.Series.mode(x)[0])\n",
    "quadclass_modes"
   ]
  },
  {
   "cell_type": "markdown",
   "id": "genuine-premium",
   "metadata": {},
   "source": [
    "Observations: The propotions seemed to have remained roughly the same with a slight increase in QuadClass 1 and 4 and slight decreases in QuadClass 2 and 3. This exploration is briefly placed on hold until after the meeting with the Data Engineers to establish the most efficient pipeline to import GDELT's data (02 March 2021)"
   ]
  },
  {
   "cell_type": "markdown",
   "id": "consolidated-surveillance",
   "metadata": {},
   "source": [
    "### Question 2: What is the Percentage of Events per EventRootCode? What is the MODE Confidence and Tone per EventRootCode?"
   ]
  },
  {
   "cell_type": "code",
   "execution_count": null,
   "id": "existing-growing",
   "metadata": {},
   "outputs": [],
   "source": [
    "# Create a sub-dataframe to group GLOBALEVENTID by EventRootCode\n",
    "cameoaction = get_var_percentages(conflict_df, 'EventRootCodeString', sort=True)\n",
    "cameoaction"
   ]
  },
  {
   "cell_type": "markdown",
   "id": "furnished-indie",
   "metadata": {},
   "source": [
    "#### Visualize"
   ]
  },
  {
   "cell_type": "code",
   "execution_count": null,
   "id": "covered-district",
   "metadata": {},
   "outputs": [],
   "source": [
    "plot_piechart(cameoaction, 'EventRootCodeString', 'Cameo Event Root Verb', 'cameo_verb_percentages')"
   ]
  },
  {
   "cell_type": "markdown",
   "id": "worthy-study",
   "metadata": {},
   "source": [
    "Observations: This exploration is briefly placed on hold until after the meeting with the Data Engineers to establish the most efficient pipeline to import GDELT's data (02 March 2021)"
   ]
  },
  {
   "cell_type": "markdown",
   "id": "compact-casino",
   "metadata": {},
   "source": [
    "### Question 3: What is the Count of EventRootCodes by QuadClass? (ie. does is match the documentation?)"
   ]
  },
  {
   "cell_type": "code",
   "execution_count": null,
   "id": "understanding-medication",
   "metadata": {},
   "outputs": [],
   "source": [
    "quadclass_events = conflict_df[['GLOBALEVENTID','QuadClass','QuadClassString','EventRootCodeString']].groupby(['QuadClass','QuadClassString','EventRootCodeString']).count()\n",
    "print(quadclass_events.shape)\n",
    "quadclass_events"
   ]
  },
  {
   "cell_type": "code",
   "execution_count": null,
   "id": "deluxe-desktop",
   "metadata": {},
   "outputs": [],
   "source": []
  }
 ],
 "metadata": {
  "kernelspec": {
   "display_name": "Python 3",
   "language": "python",
   "name": "python3"
  },
  "language_info": {
   "codemirror_mode": {
    "name": "ipython",
    "version": 3
   },
   "file_extension": ".py",
   "mimetype": "text/x-python",
   "name": "python",
   "nbconvert_exporter": "python",
   "pygments_lexer": "ipython3",
   "version": "3.8.5"
  }
 },
 "nbformat": 4,
 "nbformat_minor": 5
}
